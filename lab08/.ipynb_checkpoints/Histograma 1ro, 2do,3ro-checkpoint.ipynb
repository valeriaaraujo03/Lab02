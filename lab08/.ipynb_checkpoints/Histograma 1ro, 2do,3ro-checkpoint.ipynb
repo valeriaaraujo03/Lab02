{
 "cells": [
  {
   "cell_type": "code",
   "execution_count": 39,
   "id": "f58594ba",
   "metadata": {},
   "outputs": [],
   "source": [
    "# el histograma nos permitira saber la distribucion que presentan nuestros datos\n",
    "# a continuacion importamos todas las librerias necesarias"
   ]
  },
  {
   "cell_type": "code",
   "execution_count": 40,
   "id": "17856394",
   "metadata": {},
   "outputs": [
    {
     "data": {
      "text/html": [
       "<div>\n",
       "<style scoped>\n",
       "    .dataframe tbody tr th:only-of-type {\n",
       "        vertical-align: middle;\n",
       "    }\n",
       "\n",
       "    .dataframe tbody tr th {\n",
       "        vertical-align: top;\n",
       "    }\n",
       "\n",
       "    .dataframe thead th {\n",
       "        text-align: right;\n",
       "    }\n",
       "</style>\n",
       "<table border=\"1\" class=\"dataframe\">\n",
       "  <thead>\n",
       "    <tr style=\"text-align: right;\">\n",
       "      <th></th>\n",
       "      <th>rango_edad</th>\n",
       "      <th>estatura_m</th>\n",
       "      <th>sexo</th>\n",
       "      <th>peso_lbs</th>\n",
       "      <th>curso</th>\n",
       "    </tr>\n",
       "  </thead>\n",
       "  <tbody>\n",
       "    <tr>\n",
       "      <th>0</th>\n",
       "      <td>18 a 22</td>\n",
       "      <td>1.62</td>\n",
       "      <td>Femenino</td>\n",
       "      <td>114.0</td>\n",
       "      <td>2</td>\n",
       "    </tr>\n",
       "    <tr>\n",
       "      <th>1</th>\n",
       "      <td>18 a 22</td>\n",
       "      <td>1.90</td>\n",
       "      <td>Masculino</td>\n",
       "      <td>210.0</td>\n",
       "      <td>2</td>\n",
       "    </tr>\n",
       "    <tr>\n",
       "      <th>2</th>\n",
       "      <td>18 a 22</td>\n",
       "      <td>1.75</td>\n",
       "      <td>Masculino</td>\n",
       "      <td>133.0</td>\n",
       "      <td>2</td>\n",
       "    </tr>\n",
       "    <tr>\n",
       "      <th>3</th>\n",
       "      <td>18 a 22</td>\n",
       "      <td>1.60</td>\n",
       "      <td>Femenino</td>\n",
       "      <td>130.0</td>\n",
       "      <td>2</td>\n",
       "    </tr>\n",
       "    <tr>\n",
       "      <th>4</th>\n",
       "      <td>18 a 22</td>\n",
       "      <td>1.75</td>\n",
       "      <td>Masculino</td>\n",
       "      <td>155.0</td>\n",
       "      <td>2</td>\n",
       "    </tr>\n",
       "    <tr>\n",
       "      <th>...</th>\n",
       "      <td>...</td>\n",
       "      <td>...</td>\n",
       "      <td>...</td>\n",
       "      <td>...</td>\n",
       "      <td>...</td>\n",
       "    </tr>\n",
       "    <tr>\n",
       "      <th>254</th>\n",
       "      <td>18 a 22</td>\n",
       "      <td>1.70</td>\n",
       "      <td>Femenino</td>\n",
       "      <td>150.0</td>\n",
       "      <td>3</td>\n",
       "    </tr>\n",
       "    <tr>\n",
       "      <th>255</th>\n",
       "      <td>18 a 22</td>\n",
       "      <td>1.69</td>\n",
       "      <td>Femenino</td>\n",
       "      <td>135.0</td>\n",
       "      <td>3</td>\n",
       "    </tr>\n",
       "    <tr>\n",
       "      <th>256</th>\n",
       "      <td>18 a 22</td>\n",
       "      <td>1.76</td>\n",
       "      <td>Masculino</td>\n",
       "      <td>164.0</td>\n",
       "      <td>3</td>\n",
       "    </tr>\n",
       "    <tr>\n",
       "      <th>257</th>\n",
       "      <td>18 a 22</td>\n",
       "      <td>1.66</td>\n",
       "      <td>Masculino</td>\n",
       "      <td>140.0</td>\n",
       "      <td>3</td>\n",
       "    </tr>\n",
       "    <tr>\n",
       "      <th>258</th>\n",
       "      <td>18 a 22</td>\n",
       "      <td>1.54</td>\n",
       "      <td>Masculino</td>\n",
       "      <td>140.0</td>\n",
       "      <td>3</td>\n",
       "    </tr>\n",
       "  </tbody>\n",
       "</table>\n",
       "<p>259 rows × 5 columns</p>\n",
       "</div>"
      ],
      "text/plain": [
       "    rango_edad  estatura_m       sexo  peso_lbs  curso\n",
       "0      18 a 22        1.62   Femenino     114.0      2\n",
       "1      18 a 22        1.90  Masculino     210.0      2\n",
       "2      18 a 22        1.75  Masculino     133.0      2\n",
       "3      18 a 22        1.60   Femenino     130.0      2\n",
       "4      18 a 22        1.75  Masculino     155.0      2\n",
       "..         ...         ...        ...       ...    ...\n",
       "254    18 a 22        1.70   Femenino     150.0      3\n",
       "255    18 a 22        1.69   Femenino     135.0      3\n",
       "256    18 a 22        1.76  Masculino     164.0      3\n",
       "257    18 a 22        1.66  Masculino     140.0      3\n",
       "258    18 a 22        1.54  Masculino     140.0      3\n",
       "\n",
       "[259 rows x 5 columns]"
      ]
     },
     "execution_count": 40,
     "metadata": {},
     "output_type": "execute_result"
    }
   ],
   "source": [
    "import pandas as pd\n",
    "from matplotlib import pyplot as plt\n",
    "import numpy as np\n",
    "import statistics\n",
    "vfinal = pd.read_csv(\"vfinal.csv\")\n",
    "vfinal"
   ]
  },
  {
   "cell_type": "code",
   "execution_count": 41,
   "id": "3334c0ab",
   "metadata": {},
   "outputs": [],
   "source": [
    "# Histograma para primer año"
   ]
  },
  {
   "cell_type": "code",
   "execution_count": 42,
   "id": "1432ddee",
   "metadata": {},
   "outputs": [],
   "source": [
    "primero = vfinal[vfinal.curso == 1]"
   ]
  },
  {
   "cell_type": "code",
   "execution_count": 43,
   "id": "7574818c",
   "metadata": {},
   "outputs": [
    {
     "data": {
      "text/html": [
       "<div>\n",
       "<style scoped>\n",
       "    .dataframe tbody tr th:only-of-type {\n",
       "        vertical-align: middle;\n",
       "    }\n",
       "\n",
       "    .dataframe tbody tr th {\n",
       "        vertical-align: top;\n",
       "    }\n",
       "\n",
       "    .dataframe thead th {\n",
       "        text-align: right;\n",
       "    }\n",
       "</style>\n",
       "<table border=\"1\" class=\"dataframe\">\n",
       "  <thead>\n",
       "    <tr style=\"text-align: right;\">\n",
       "      <th></th>\n",
       "      <th>rango_edad</th>\n",
       "      <th>estatura_m</th>\n",
       "      <th>sexo</th>\n",
       "      <th>peso_lbs</th>\n",
       "      <th>curso</th>\n",
       "    </tr>\n",
       "  </thead>\n",
       "  <tbody>\n",
       "    <tr>\n",
       "      <th>14</th>\n",
       "      <td>18 a 22</td>\n",
       "      <td>1.65</td>\n",
       "      <td>Femenino</td>\n",
       "      <td>145.0</td>\n",
       "      <td>1</td>\n",
       "    </tr>\n",
       "    <tr>\n",
       "      <th>15</th>\n",
       "      <td>18 a 22</td>\n",
       "      <td>1.70</td>\n",
       "      <td>Masculino</td>\n",
       "      <td>140.0</td>\n",
       "      <td>1</td>\n",
       "    </tr>\n",
       "    <tr>\n",
       "      <th>19</th>\n",
       "      <td>18 a 22</td>\n",
       "      <td>1.78</td>\n",
       "      <td>Masculino</td>\n",
       "      <td>201.0</td>\n",
       "      <td>1</td>\n",
       "    </tr>\n",
       "    <tr>\n",
       "      <th>20</th>\n",
       "      <td>18 a 22</td>\n",
       "      <td>1.59</td>\n",
       "      <td>Femenino</td>\n",
       "      <td>140.0</td>\n",
       "      <td>1</td>\n",
       "    </tr>\n",
       "    <tr>\n",
       "      <th>25</th>\n",
       "      <td>18 a 22</td>\n",
       "      <td>1.65</td>\n",
       "      <td>Femenino</td>\n",
       "      <td>115.0</td>\n",
       "      <td>1</td>\n",
       "    </tr>\n",
       "    <tr>\n",
       "      <th>...</th>\n",
       "      <td>...</td>\n",
       "      <td>...</td>\n",
       "      <td>...</td>\n",
       "      <td>...</td>\n",
       "      <td>...</td>\n",
       "    </tr>\n",
       "    <tr>\n",
       "      <th>220</th>\n",
       "      <td>18 a 22</td>\n",
       "      <td>1.76</td>\n",
       "      <td>Masculino</td>\n",
       "      <td>133.0</td>\n",
       "      <td>1</td>\n",
       "    </tr>\n",
       "    <tr>\n",
       "      <th>222</th>\n",
       "      <td>Menos de 18</td>\n",
       "      <td>1.76</td>\n",
       "      <td>Masculino</td>\n",
       "      <td>159.0</td>\n",
       "      <td>1</td>\n",
       "    </tr>\n",
       "    <tr>\n",
       "      <th>224</th>\n",
       "      <td>Menos de 18</td>\n",
       "      <td>1.63</td>\n",
       "      <td>Masculino</td>\n",
       "      <td>120.0</td>\n",
       "      <td>1</td>\n",
       "    </tr>\n",
       "    <tr>\n",
       "      <th>230</th>\n",
       "      <td>18 a 22</td>\n",
       "      <td>1.78</td>\n",
       "      <td>Masculino</td>\n",
       "      <td>140.0</td>\n",
       "      <td>1</td>\n",
       "    </tr>\n",
       "    <tr>\n",
       "      <th>232</th>\n",
       "      <td>18 a 22</td>\n",
       "      <td>1.60</td>\n",
       "      <td>Masculino</td>\n",
       "      <td>120.0</td>\n",
       "      <td>1</td>\n",
       "    </tr>\n",
       "  </tbody>\n",
       "</table>\n",
       "<p>126 rows × 5 columns</p>\n",
       "</div>"
      ],
      "text/plain": [
       "      rango_edad  estatura_m       sexo  peso_lbs  curso\n",
       "14       18 a 22        1.65   Femenino     145.0      1\n",
       "15       18 a 22        1.70  Masculino     140.0      1\n",
       "19       18 a 22        1.78  Masculino     201.0      1\n",
       "20       18 a 22        1.59   Femenino     140.0      1\n",
       "25       18 a 22        1.65   Femenino     115.0      1\n",
       "..           ...         ...        ...       ...    ...\n",
       "220      18 a 22        1.76  Masculino     133.0      1\n",
       "222  Menos de 18        1.76  Masculino     159.0      1\n",
       "224  Menos de 18        1.63  Masculino     120.0      1\n",
       "230      18 a 22        1.78  Masculino     140.0      1\n",
       "232      18 a 22        1.60  Masculino     120.0      1\n",
       "\n",
       "[126 rows x 5 columns]"
      ]
     },
     "execution_count": 43,
     "metadata": {},
     "output_type": "execute_result"
    }
   ],
   "source": [
    "primero"
   ]
  },
  {
   "cell_type": "code",
   "execution_count": 44,
   "id": "05bc5dfb",
   "metadata": {},
   "outputs": [
    {
     "data": {
      "text/plain": [
       "148.36904761904762"
      ]
     },
     "execution_count": 44,
     "metadata": {},
     "output_type": "execute_result"
    }
   ],
   "source": [
    "# media\n",
    "m1 = np.mean(primero.peso_lbs)\n",
    "m1"
   ]
  },
  {
   "cell_type": "code",
   "execution_count": 45,
   "id": "59c966bb",
   "metadata": {},
   "outputs": [],
   "source": [
    "# desviacion standar\n",
    "sd1 = statistics.pstdev(primero.peso_lbs)"
   ]
  },
  {
   "cell_type": "code",
   "execution_count": 46,
   "id": "e8524a44",
   "metadata": {},
   "outputs": [
    {
     "data": {
      "text/plain": [
       "24.331064683173647"
      ]
     },
     "execution_count": 46,
     "metadata": {},
     "output_type": "execute_result"
    }
   ],
   "source": [
    "sd1"
   ]
  },
  {
   "cell_type": "code",
   "execution_count": 47,
   "id": "43fb0d67",
   "metadata": {},
   "outputs": [],
   "source": [
    "# error standar"
   ]
  },
  {
   "cell_type": "code",
   "execution_count": 127,
   "id": "3d9ae661",
   "metadata": {},
   "outputs": [],
   "source": [
    "x = m1 + sd1 * np.random.randn(437)"
   ]
  },
  {
   "cell_type": "code",
   "execution_count": 128,
   "id": "4ff4cde7",
   "metadata": {},
   "outputs": [],
   "source": [
    "num_bins = 50"
   ]
  },
  {
   "cell_type": "code",
   "execution_count": 137,
   "id": "d4ecb482",
   "metadata": {},
   "outputs": [
    {
     "data": {
      "image/png": "[encoded data removed]",
      "text/plain": [
       "<Figure size 432x288 with 1 Axes>"
      ]
     },
     "metadata": {
      "needs_background": "light"
     },
     "output_type": "display_data"
    }
   ],
   "source": [
    "fig, ax = plt.subplots()\n",
    "\n",
    "# the histogram of the data\n",
    "n, bins, patches = ax.hist(x, num_bins, density=True)\n",
    "\n",
    "# add a 'best fit' line\n",
    "y = ((1 / (np.sqrt(2 * np.pi) * sd1)) *\n",
    "     np.exp(-0.5 * (1 / sd1 * (bins - m1))**2))\n",
    "ax.plot(bins, y, '--')\n",
    "ax.set_xlabel('Peso (lbs)')\n",
    "ax.set_ylabel('Probabilidad')\n",
    "ax.set_title(\"Comportamiento de los datos de Primer Año-2025\")\n",
    "plt.text(82, 0.0175, 'Media=148.36 lbs, sd=24.33', fontsize=8, color='black')\n",
    "# Tweak spacing to prevent clipping of ylabel\n",
    "fig.tight_layout()\n",
    "plt.show()"
   ]
  },
  {
   "cell_type": "code",
   "execution_count": 103,
   "id": "b1eeffd8",
   "metadata": {},
   "outputs": [
    {
     "name": "stdout",
     "output_type": "stream",
     "text": [
      "Media Primer año:  148.36904761904762 Desviación Estandar:  24.331064683173647\n"
     ]
    }
   ],
   "source": [
    "print(\"Media Primer año: \", m1, \"Desviación Estandar: \", sd1)"
   ]
  },
  {
   "cell_type": "code",
   "execution_count": 51,
   "id": "10add7b2",
   "metadata": {},
   "outputs": [],
   "source": [
    "# HISTOGRAMA PARA SEGUNDO AÑO"
   ]
  },
  {
   "cell_type": "code",
   "execution_count": 154,
   "id": "afe80f45",
   "metadata": {},
   "outputs": [
    {
     "data": {
      "image/png": "[encoded data removed]",
      "text/plain": [
       "<Figure size 432x288 with 1 Axes>"
      ]
     },
     "metadata": {
      "needs_background": "light"
     },
     "output_type": "display_data"
    }
   ],
   "source": [
    "segundo = vfinal[vfinal.curso == 2]\n",
    "m2 = np.mean(segundo.peso_lbs)\n",
    "sd2 = statistics.pstdev(segundo.peso_lbs)\n",
    "x2 = m2 + sd2 * np.random.randn(437)\n",
    "num_bins = 50\n",
    "fig, ax = plt.subplots()\n",
    "\n",
    "# the histogram of the data\n",
    "n, bins, patches = ax.hist(x2, num_bins, density=True)\n",
    "\n",
    "# add a 'best fit' line\n",
    "y = ((1 / (np.sqrt(2 * np.pi) * sd2)) *\n",
    "     np.exp(-0.5 * (1 / sd2 * (bins - m2))**2))\n",
    "ax.plot(bins, y, '--')\n",
    "ax.set_xlabel('Peso (lbs)')\n",
    "ax.set_ylabel('Probabilidad')\n",
    "ax.set_title(\"Comportamiento de los datos de Segundo Año-2024\")\n",
    "plt.text(82, 0.0170, 'Media=147.86 lbs, sd=26.31', fontsize=8, color='black')\n",
    "# Tweak spacing to prevent clipping of ylabel\n",
    "fig.tight_layout()\n",
    "plt.show()"
   ]
  },
  {
   "cell_type": "code",
   "execution_count": 104,
   "id": "fb73abac",
   "metadata": {},
   "outputs": [
    {
     "name": "stdout",
     "output_type": "stream",
     "text": [
      "Media Segundo año:  147.8681818181818 Desviación Estandar:  26.31019596745205\n"
     ]
    }
   ],
   "source": [
    "print(\"Media Segundo año: \", m2, \"Desviación Estandar: \", sd2)"
   ]
  },
  {
   "cell_type": "code",
   "execution_count": 146,
   "id": "04376ebb",
   "metadata": {},
   "outputs": [],
   "source": [
    "# HISTOGRAMA PARA TERCER AÑO"
   ]
  },
  {
   "cell_type": "code",
   "execution_count": 155,
   "id": "7847a105",
   "metadata": {},
   "outputs": [
    {
     "data": {
      "image/png": "[encoded data removed]",
      "text/plain": [
       "<Figure size 432x288 with 1 Axes>"
      ]
     },
     "metadata": {
      "needs_background": "light"
     },
     "output_type": "display_data"
    }
   ],
   "source": [
    "tercero = vfinal[vfinal.curso == 3]\n",
    "m3 = np.mean(tercero.peso_lbs)\n",
    "sd3 = statistics.pstdev(tercero.peso_lbs)\n",
    "x3 = m3 + sd3* np.random.randn(437)\n",
    "num_bins = 50\n",
    "fig, ax = plt.subplots()\n",
    "\n",
    "# the histogram of the data\n",
    "n, bins, patches = ax.hist(x3, num_bins, density=True)\n",
    "\n",
    "# add a 'best fit' line\n",
    "y = ((1 / (np.sqrt(2 * np.pi) * sd3)) *\n",
    "     np.exp(-0.5 * (1 / sd3 * (bins - m3))**2))\n",
    "ax.plot(bins, y, '--')\n",
    "ax.set_xlabel('Peso (lbs)')\n",
    "ax.set_ylabel('Probabilidad')\n",
    "ax.set_title(\"Comportamiento de los datos de Tercer Año-2023\")\n",
    "plt.text(85, 0.0175, 'Media=159.13lbs, sd=27.41', fontsize=8, color='black')\n",
    "# Tweak spacing to prevent clipping of ylabel\n",
    "fig.tight_layout()\n",
    "plt.show()"
   ]
  }
 ],
 "metadata": {
  "kernelspec": {
   "display_name": "Python 3 (ipykernel)",
   "language": "python",
   "name": "python3"
  },
  "language_info": {
   "codemirror_mode": {
    "name": "ipython",
    "version": 3
   },
   "file_extension": ".py",
   "mimetype": "text/x-python",
   "name": "python",
   "nbconvert_exporter": "python",
   "pygments_lexer": "ipython3",
   "version": "3.9.12"
  }
 },
 "nbformat": 4,
 "nbformat_minor": 5
}
